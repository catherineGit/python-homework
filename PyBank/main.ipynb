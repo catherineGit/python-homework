{
 "cells": [
  {
   "cell_type": "code",
   "execution_count": 53,
   "id": "5959d988-943b-4ffc-88fb-77c7eec7688a",
   "metadata": {},
   "outputs": [
    {
     "name": "stdout",
     "output_type": "stream",
     "text": [
      "Financial Analysis\n",
      "----------------------------\n",
      "Total Months: 86\n",
      "Total: $38382578\n",
      "Average Change: $-2315.12\n",
      "Greatest Increase in Profits: Feb-2012 ($1926159)\n",
      "Greatest Decrease in Profits: Sep-2013 ($-2196167)\n"
     ]
    }
   ],
   "source": [
    "# Import the pathlib and csv library\n",
    "from pathlib import Path\n",
    "import csv\n",
    "# Import numpy library\n",
    "import numpy as np\n",
    "\n",
    "# Set the file path\n",
    "csvpath = Path('./Resources/budget_data.csv')\n",
    "\n",
    "# Initialize list of records\n",
    "records = []\n",
    "dates = []\n",
    "\n",
    "# Open the csv file as an object\n",
    "with open(csvpath, 'r') as csvfile:\n",
    "\n",
    "    # Pass in the csv file to the csv.reader() function\n",
    "    # (with ',' as the delmiter/separator) and return the csvreader object\n",
    "    csvreader = csv.reader(csvfile, delimiter=',')\n",
    "\n",
    "    # Read the header row first (skip this step if there is no header)\n",
    "    csv_header = next(csvreader)\n",
    "\n",
    "    # Read each row of data after the header\n",
    "    for row in csvreader:\n",
    "        # Append the row date to the list of dates\n",
    "        dates.append(row[0])\n",
    "        # Append the row profit/loss to the list of records\n",
    "        records.append(int(row[1]))\n",
    "    \n",
    "    #calculation of total months\n",
    "    total_months = len(dates)\n",
    "    #calculation of total profit/loss\n",
    "    total = sum(records)\n",
    "    #calculation of average change\n",
    "    changes = list(np.diff(records))\n",
    "    average_change = np.average(changes)\n",
    "    \n",
    "    #calculation of the greatest increase in profits (date and amount) over the entire period\n",
    "    max_profit = max(changes)\n",
    "    max_index = changes.index(max_profit)+1\n",
    "    max_profit_month = dates[max_index]\n",
    "\n",
    "    #calculation of the greatest decrease in losses (date and amount) over the entire period\n",
    "    max_loss = min(changes)\n",
    "    maxloss_index = changes.index(max_loss)+1\n",
    "    max_loss_month = dates[maxloss_index]\n",
    "\n",
    "\n",
    "# Create a list of lines for output\n",
    "lines = ['Financial Analysis', '----------------------------']\n",
    "lines.append('Total Months: ' + str(total_months))\n",
    "lines.append('Total: $' + str(total))\n",
    "lines.append('Average Change: $' + \"{:.2f}\".format(average_change))\n",
    "lines.append('Greatest Increase in Profits: ' + max_profit_month + ' ($' + str(max_profit)+')')\n",
    "lines.append('Greatest Decrease in Profits: ' + max_loss_month + ' ($' + str(max_loss)+')')\n",
    "\n",
    "# Print the analysis\n",
    "for line in lines:\n",
    "    print(line)\n",
    "    \n",
    "# Set the output file path\n",
    "output_path = Path('output.txt')\n",
    "\n",
    "# Open the output path as a file object and output the results in a text file\n",
    "with open(output_path, 'w') as f:\n",
    "    for line in lines:\n",
    "        f.write(line+'\\n')\n",
    "    f.close()\n",
    "\n"
   ]
  },
  {
   "cell_type": "code",
   "execution_count": null,
   "id": "486b1fab-953f-4410-a0f4-26ff48ad172a",
   "metadata": {},
   "outputs": [],
   "source": []
  }
 ],
 "metadata": {
  "kernelspec": {
   "display_name": "Python 3 (ipykernel)",
   "language": "python",
   "name": "python3"
  },
  "language_info": {
   "codemirror_mode": {
    "name": "ipython",
    "version": 3
   },
   "file_extension": ".py",
   "mimetype": "text/x-python",
   "name": "python",
   "nbconvert_exporter": "python",
   "pygments_lexer": "ipython3",
   "version": "3.9.13"
  }
 },
 "nbformat": 4,
 "nbformat_minor": 5
}
